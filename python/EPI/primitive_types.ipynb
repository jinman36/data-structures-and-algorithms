{
 "cells": [
  {
   "cell_type": "markdown",
   "metadata": {},
   "source": [
    "|                Bitwise Operators                  |\n",
    "|---------------------------------------------------|\n",
    "| Operator    | Meaning               | Example     |\n",
    "|-------------|-----------------------|-------------|\n",
    "| &           |  AND                  |  a & b      |\n",
    "|-------------|-----------------------|-------------|\n",
    "| |           |  OR                   |  a | b      |\n",
    "|-------------|-----------------------|-------------|\n",
    "| ^           |  XOR (exclusive OR)   |  a ^ b      |\n",
    "|-------------|-----------------------|-------------|\n",
    "| ~           |  NOT                  |  ~a         |\n",
    "|-------------|-----------------------|-------------|\n",
    "| <<          |  left shift           |  a << n     |\n",
    "|-------------|-----------------------|-------------|\n",
    "| >>          |  right shift          |  a >> n     |\n",
    "|---------------------------------------------------|"
   ]
  },
  {
   "cell_type": "code",
   "execution_count": 8,
   "metadata": {},
   "outputs": [
    {
     "name": "stdout",
     "output_type": "stream",
     "text": [
      "25\n"
     ]
    }
   ],
   "source": [
    "# count_bits.py - O(n)\n",
    "def count_bits(x: int) -> int:\n",
    "    num_bits = 0\n",
    "    while x:\n",
    "        num_bits += x & 1\n",
    "        x >>= 1\n",
    "    return num_bits\n",
    "\n",
    "print(count_bits(532000**3))"
   ]
  },
  {
   "cell_type": "code",
   "execution_count": 18,
   "metadata": {},
   "outputs": [
    {
     "data": {
      "text/plain": [
       "0"
      ]
     },
     "execution_count": 18,
     "metadata": {},
     "output_type": "execute_result"
    }
   ],
   "source": [
    "# parity1.py - O(n/L)\n",
    "def parity1(x: int) -> int:\n",
    "    result = 0\n",
    "    while x:\n",
    "        result ^= x & 1\n",
    "        x >>= 1\n",
    "    return result\n",
    "\n",
    "parity1(11001010)"
   ]
  },
  {
   "cell_type": "code",
   "execution_count": 17,
   "metadata": {},
   "outputs": [
    {
     "data": {
      "text/plain": [
       "0"
      ]
     },
     "execution_count": 17,
     "metadata": {},
     "output_type": "execute_result"
    }
   ],
   "source": [
    "# parity2.py - O(log n)\n",
    "def parity2(x: int) -> int:\n",
    "    result = 0\n",
    "    while x:\n",
    "        result ^= 1\n",
    "        x &= x - 1\n",
    "    return result\n",
    "\n",
    "parity2(len('parity'))"
   ]
  },
  {
   "cell_type": "code",
   "execution_count": 23,
   "metadata": {},
   "outputs": [
    {
     "ename": "TypeError",
     "evalue": "'function' object is not subscriptable",
     "output_type": "error",
     "traceback": [
      "\u001b[0;31m---------------------------------------------------------------------------\u001b[0m",
      "\u001b[0;31mTypeError\u001b[0m                                 Traceback (most recent call last)",
      "Cell \u001b[0;32mIn[23], line 16\u001b[0m\n\u001b[1;32m     10\u001b[0m     bit_mask \u001b[38;5;241m=\u001b[39m \u001b[38;5;241m0xFFFF\u001b[39m\n\u001b[1;32m     11\u001b[0m     \u001b[38;5;28;01mreturn\u001b[39;00m(parity2[x \u001b[38;5;241m>>\u001b[39m (\u001b[38;5;241m3\u001b[39m \u001b[38;5;241m*\u001b[39m mask_size)] \u001b[38;5;241m^\u001b[39m\n\u001b[1;32m     12\u001b[0m            parity2[(x \u001b[38;5;241m>>\u001b[39m (\u001b[38;5;241m2\u001b[39m \u001b[38;5;241m*\u001b[39m mask_size)) \u001b[38;5;241m&\u001b[39m bit_mask] \u001b[38;5;241m^\u001b[39m\n\u001b[1;32m     13\u001b[0m            parity2[(x \u001b[38;5;241m>>\u001b[39m mask_size)\n\u001b[1;32m     14\u001b[0m                              \u001b[38;5;241m&\u001b[39m bit_mask] \u001b[38;5;241m^\u001b[39m parity2[x \u001b[38;5;241m&\u001b[39m bit_mask])\n\u001b[0;32m---> 16\u001b[0m parity3(\u001b[38;5;241m11001010\u001b[39m)\n",
      "Cell \u001b[0;32mIn[23], line 11\u001b[0m, in \u001b[0;36mparity3\u001b[0;34m(x)\u001b[0m\n\u001b[1;32m      9\u001b[0m mask_size \u001b[38;5;241m=\u001b[39m \u001b[38;5;241m16\u001b[39m\n\u001b[1;32m     10\u001b[0m bit_mask \u001b[38;5;241m=\u001b[39m \u001b[38;5;241m0xFFFF\u001b[39m\n\u001b[0;32m---> 11\u001b[0m \u001b[38;5;28;01mreturn\u001b[39;00m(parity2[x \u001b[38;5;241m>>\u001b[39m (\u001b[38;5;241m3\u001b[39m \u001b[38;5;241m*\u001b[39m mask_size)] \u001b[38;5;241m^\u001b[39m\n\u001b[1;32m     12\u001b[0m        parity2[(x \u001b[38;5;241m>>\u001b[39m (\u001b[38;5;241m2\u001b[39m \u001b[38;5;241m*\u001b[39m mask_size)) \u001b[38;5;241m&\u001b[39m bit_mask] \u001b[38;5;241m^\u001b[39m\n\u001b[1;32m     13\u001b[0m        parity2[(x \u001b[38;5;241m>>\u001b[39m mask_size)\n\u001b[1;32m     14\u001b[0m                          \u001b[38;5;241m&\u001b[39m bit_mask] \u001b[38;5;241m^\u001b[39m parity2[x \u001b[38;5;241m&\u001b[39m bit_mask])\n",
      "\u001b[0;31mTypeError\u001b[0m: 'function' object is not subscriptable"
     ]
    }
   ],
   "source": [
    "# def parity3(x: int) -> int:\n",
    "#     mask_size = 16\n",
    "#     bit_mask = 0xFFFF\n",
    "#     return( PRECOMPUTED_PARITY[x >> (3 * mask_size)] ^\n",
    "#            PRECOMPUTED_PARITY[(x >> (2 * mask_size)) & bit_mask] ^\n",
    "#            PRECOMUTED_PARITY[(x >> mask_size)\n",
    "#                              & bit_mask] ^ PRECOMPUTED_PARITY[x & bit_mask])\n",
    "    \n",
    "# parity3(11001010)"
   ]
  },
  {
   "cell_type": "code",
   "execution_count": 25,
   "metadata": {},
   "outputs": [
    {
     "data": {
      "text/plain": [
       "0"
      ]
     },
     "execution_count": 25,
     "metadata": {},
     "output_type": "execute_result"
    }
   ],
   "source": [
    "def parity4(x: int) -> int:\n",
    "    x ^= x >> 32\n",
    "    x ^= x >> 16\n",
    "    x ^= x >> 8\n",
    "    x ^= x >> 4\n",
    "    x ^= x >> 2\n",
    "    x ^= x >> 1\n",
    "    return x & 0x1\n",
    "\n",
    "parity4(11001010)"
   ]
  },
  {
   "cell_type": "code",
   "execution_count": 27,
   "metadata": {},
   "outputs": [
    {
     "data": {
      "text/plain": [
       "21"
      ]
     },
     "execution_count": 27,
     "metadata": {},
     "output_type": "execute_result"
    }
   ],
   "source": [
    "# swap_bits.py - O(1)\n",
    "\n",
    "def swap_bits(x, i, j):\n",
    "    # Extract the i-th and the j-th bits, and see if they differ.\n",
    "    if (x >> i) & 1 != (x >> j) & 1:\n",
    "        # i-th and j-th bits differ, we will swap them by flipping thier values\n",
    "        # Select the bits to flip with bit_mask, since x^1 = 0 when x = 1 and 1\n",
    "        # when x = 0, we can perform the flip XOR\n",
    "        bit_mask = (1 << i) | (1 << j)\n",
    "        x ^= bit_mask\n",
    "    return x\n",
    "\n",
    "swap_bits(28, 0, 3)"
   ]
  },
  {
   "cell_type": "code",
   "execution_count": 29,
   "metadata": {},
   "outputs": [
    {
     "ename": "NameError",
     "evalue": "name 'PRECOMPUTED_REVERSE' is not defined",
     "output_type": "error",
     "traceback": [
      "\u001b[0;31m---------------------------------------------------------------------------\u001b[0m",
      "\u001b[0;31mNameError\u001b[0m                                 Traceback (most recent call last)",
      "Cell \u001b[0;32mIn[29], line 10\u001b[0m\n\u001b[1;32m      3\u001b[0m     bit_mask \u001b[38;5;241m=\u001b[39m \u001b[38;5;241m0xFFFF\u001b[39m\n\u001b[1;32m      4\u001b[0m     \u001b[38;5;28;01mreturn\u001b[39;00m (PRECOMPUTED_REVERSE[x \u001b[38;5;241m&\u001b[39m bit_mask] \u001b[38;5;241m<<\u001b[39m (\u001b[38;5;241m3\u001b[39m \u001b[38;5;241m*\u001b[39m mask_size)\n\u001b[1;32m      5\u001b[0m             \u001b[38;5;241m|\u001b[39m PRECOMPUTED_REVERSE[(x \u001b[38;5;241m>>\u001b[39m mask_size) \u001b[38;5;241m&\u001b[39m bit_mask] \u001b[38;5;241m<<\u001b[39m\n\u001b[1;32m      6\u001b[0m             (\u001b[38;5;241m2\u001b[39m \u001b[38;5;241m*\u001b[39m mask_size) \u001b[38;5;241m|\u001b[39m \n\u001b[1;32m      7\u001b[0m             PRECOMPUTED_REVERSE[(x \u001b[38;5;241m>>\u001b[39m (\u001b[38;5;241m2\u001b[39m \u001b[38;5;241m*\u001b[39m mask_size)) \u001b[38;5;241m&\u001b[39m bit_mask] \u001b[38;5;241m<<\u001b[39m mask_size\n\u001b[1;32m      8\u001b[0m             \u001b[38;5;241m|\u001b[39m PRECOMPUTED_REVERSE[(x \u001b[38;5;241m>>\u001b[39m (\u001b[38;5;241m3\u001b[39m \u001b[38;5;241m*\u001b[39m mask_size)) \u001b[38;5;241m&\u001b[39m bit_mask])\n\u001b[0;32m---> 10\u001b[0m reverse_bits(\u001b[38;5;241m1000000000000111\u001b[39m)\n",
      "Cell \u001b[0;32mIn[29], line 4\u001b[0m, in \u001b[0;36mreverse_bits\u001b[0;34m(x)\u001b[0m\n\u001b[1;32m      2\u001b[0m mask_size \u001b[38;5;241m=\u001b[39m \u001b[38;5;241m16\u001b[39m\n\u001b[1;32m      3\u001b[0m bit_mask \u001b[38;5;241m=\u001b[39m \u001b[38;5;241m0xFFFF\u001b[39m\n\u001b[0;32m----> 4\u001b[0m \u001b[38;5;28;01mreturn\u001b[39;00m (PRECOMPUTED_REVERSE[x \u001b[38;5;241m&\u001b[39m bit_mask] \u001b[38;5;241m<<\u001b[39m (\u001b[38;5;241m3\u001b[39m \u001b[38;5;241m*\u001b[39m mask_size)\n\u001b[1;32m      5\u001b[0m         \u001b[38;5;241m|\u001b[39m PRECOMPUTED_REVERSE[(x \u001b[38;5;241m>>\u001b[39m mask_size) \u001b[38;5;241m&\u001b[39m bit_mask] \u001b[38;5;241m<<\u001b[39m\n\u001b[1;32m      6\u001b[0m         (\u001b[38;5;241m2\u001b[39m \u001b[38;5;241m*\u001b[39m mask_size) \u001b[38;5;241m|\u001b[39m \n\u001b[1;32m      7\u001b[0m         PRECOMPUTED_REVERSE[(x \u001b[38;5;241m>>\u001b[39m (\u001b[38;5;241m2\u001b[39m \u001b[38;5;241m*\u001b[39m mask_size)) \u001b[38;5;241m&\u001b[39m bit_mask] \u001b[38;5;241m<<\u001b[39m mask_size\n\u001b[1;32m      8\u001b[0m         \u001b[38;5;241m|\u001b[39m PRECOMPUTED_REVERSE[(x \u001b[38;5;241m>>\u001b[39m (\u001b[38;5;241m3\u001b[39m \u001b[38;5;241m*\u001b[39m mask_size)) \u001b[38;5;241m&\u001b[39m bit_mask])\n",
      "\u001b[0;31mNameError\u001b[0m: name 'PRECOMPUTED_REVERSE' is not defined"
     ]
    }
   ],
   "source": [
    "def reverse_bits(x: int) -> int:\n",
    "    mask_size = 16\n",
    "    bit_mask = 0xFFFF\n",
    "    return (PRECOMPUTED_REVERSE[x & bit_mask] << (3 * mask_size)\n",
    "            | PRECOMPUTED_REVERSE[(x >> mask_size) & bit_mask] <<\n",
    "            (2 * mask_size) | \n",
    "            PRECOMPUTED_REVERSE[(x >> (2 * mask_size)) & bit_mask] << mask_size\n",
    "            | PRECOMPUTED_REVERSE[(x >> (3 * mask_size)) & bit_mask])\n",
    "\n",
    "reverse_bits(1000000000000111)"
   ]
  },
  {
   "cell_type": "code",
   "execution_count": 39,
   "metadata": {},
   "outputs": [
    {
     "data": {
      "text/plain": [
       "32760"
      ]
     },
     "execution_count": 39,
     "metadata": {},
     "output_type": "execute_result"
    }
   ],
   "source": [
    "# reverse_bits.py\n",
    "def reverse_bits2(number, bit_size):\n",
    "    max_value = (1 << bit_size) - 1\n",
    "    return max_value - number\n",
    "\n",
    "reverse_bits2(32775, 16)"
   ]
  },
  {
   "cell_type": "code",
   "execution_count": 1,
   "metadata": {},
   "outputs": [
    {
     "data": {
      "text/plain": [
       "29"
      ]
     },
     "execution_count": 1,
     "metadata": {},
     "output_type": "execute_result"
    }
   ],
   "source": [
    "# closest_int_same_weight.py - O(n)\n",
    "\n",
    "def closest_int_same_bit_count(x: int) -> int:\n",
    "    num_unsigned_bits = 64\n",
    "    for i in range(num_unsigned_bits - 1):\n",
    "        if (x >> i) & 1 != (x >> (i + 1)) & 1:\n",
    "            x ^= (1 << i) | (1 << (i + 1))\n",
    "            return x\n",
    "        \n",
    "    raise ValueError('All bits are 0 or 1')\n",
    "\n",
    "closest_int_same_bit_count(30)"
   ]
  },
  {
   "cell_type": "code",
   "execution_count": 45,
   "metadata": {},
   "outputs": [
    {
     "data": {
      "text/plain": [
       "20"
      ]
     },
     "execution_count": 45,
     "metadata": {},
     "output_type": "execute_result"
    }
   ],
   "source": [
    "# primitive_multiply.py - O(n^2)\n",
    "\n",
    "def multiply(x: int, y: int) -> int:\n",
    "    def add(a, b):\n",
    "        return a if b == 0 else add(a ^ b, (a & b) << 1)\n",
    "    \n",
    "    running_sum = 0\n",
    "    while x: # examine each bit of x\n",
    "        if x & 1:\n",
    "            running_sum = add(running_sum, y)\n",
    "        x, y = x >> 1, y << 1\n",
    "    return running_sum\n",
    "        \n",
    "\n",
    "multiply(2, 10)"
   ]
  },
  {
   "cell_type": "code",
   "execution_count": 4,
   "metadata": {},
   "outputs": [
    {
     "data": {
      "text/plain": [
       "5"
      ]
     },
     "execution_count": 4,
     "metadata": {},
     "output_type": "execute_result"
    }
   ],
   "source": [
    "# primitive_divide.py - O(n)\n",
    "\n",
    "def divide(x: int, y: int) -> int:\n",
    "    result, power = 0, 64\n",
    "    y_power = y << power \n",
    "    while x >= y:\n",
    "        while y_power > x:\n",
    "            y_power >>= 1\n",
    "            power -= 1\n",
    "            \n",
    "        result += 1 << power\n",
    "        x -= y_power\n",
    "    return result\n",
    "\n",
    "divide(25, 5)"
   ]
  },
  {
   "cell_type": "code",
   "execution_count": 2,
   "metadata": {},
   "outputs": [
    {
     "data": {
      "text/plain": [
       "32.0"
      ]
     },
     "execution_count": 2,
     "metadata": {},
     "output_type": "execute_result"
    }
   ],
   "source": [
    "# power_x_y.py\n",
    "\n",
    "def power(x: float, y: int) -> float:\n",
    "    result, power = 1.0, y\n",
    "    if y < 0:\n",
    "        power, x = -power, 1.0 / x\n",
    "    while power:\n",
    "        if power & 1:\n",
    "            result *= x\n",
    "        x, power = x * x, power >> 1\n",
    "    return result\n",
    "power(2, 5)"
   ]
  },
  {
   "cell_type": "code",
   "execution_count": 4,
   "metadata": {},
   "outputs": [
    {
     "data": {
      "text/plain": [
       "9005"
      ]
     },
     "execution_count": 4,
     "metadata": {},
     "output_type": "execute_result"
    }
   ],
   "source": [
    "# reverse_digits.py - O(n)\n",
    "\n",
    "def reverse(x: int) -> int:\n",
    "    result, x_remaining = 0, abs(x)\n",
    "    while x_remaining:\n",
    "        result = result * 10 + x_remaining % 10\n",
    "        x_remaining //= 10\n",
    "    return -result if x < 0 else result\n",
    "\n",
    "reverse(5009)"
   ]
  },
  {
   "cell_type": "code",
   "execution_count": 9,
   "metadata": {},
   "outputs": [
    {
     "data": {
      "text/plain": [
       "True"
      ]
     },
     "execution_count": 9,
     "metadata": {},
     "output_type": "execute_result"
    }
   ],
   "source": [
    "# is_number_palindromic.py\n",
    "import math\n",
    "\n",
    "def is_palindrome_number(x: int) -> bool:\n",
    "    if x <= 0:\n",
    "        return x == 0\n",
    "    \n",
    "    num_digits = math.floor(math.log10(x)) + 1\n",
    "    msd_mask = 10 **(num_digits - 1)\n",
    "    for i in range(num_digits // 2):\n",
    "        if x // msd_mask != x % 10:\n",
    "            return False\n",
    "        x %= msd_mask # remove the msd of x\n",
    "        x //= 10 # remove the lsd of x\n",
    "        msd_mask //= 100\n",
    "    return True\n",
    "\n",
    "is_palindrome_number(15566551)\n",
    "    "
   ]
  },
  {
   "cell_type": "code",
   "execution_count": 30,
   "metadata": {},
   "outputs": [
    {
     "name": "stdout",
     "output_type": "stream",
     "text": [
      "Generated random number: 18\n"
     ]
    }
   ],
   "source": [
    "# uniform_random_number.py\n",
    "import random\n",
    "\n",
    "def zero_one_random1() -> int:\n",
    "    # A simple implementation of a random bit generator\n",
    "    return random.randint(0, 1)\n",
    "\n",
    "def uniform_random_number1(lower_bound: int, upper_bound: int) -> int:\n",
    "    number_of_outcomes = upper_bound - lower_bound + 1\n",
    "    while True:\n",
    "        result, i = 0, 0\n",
    "        while (1 << i) < number_of_outcomes:\n",
    "            result = (result << 1) | zero_one_random()\n",
    "            i += 1  # Increment i\n",
    "        if result < number_of_outcomes:\n",
    "            break\n",
    "    return result + lower_bound\n",
    "\n",
    "# Test case\n",
    "lower_bound = 10\n",
    "upper_bound = 20\n",
    "print(\"Generated random number:\", uniform_random_number1(lower_bound, upper_bound))\n",
    "\n"
   ]
  },
  {
   "cell_type": "code",
   "execution_count": 35,
   "metadata": {},
   "outputs": [],
   "source": [
    "# rectangle_intersection.py - O(n)\n",
    "import collections\n",
    "Rect = collections.namedtuple('Rect', ('x','y','width','height'))\n",
    "\n",
    "def intersect_rectangle(r1: Rect, r2: Rect) -> Rect:\n",
    "    def is_intersect(r1, r2):\n",
    "        return (r1.x <= r2.x + r2.width and r1.x + r1.width >= r2.x and r1.y <= r2.y + r2.height and r1.y + r1.height >= r2.y)\n",
    "    \n",
    "    if not is_intersect(r1, r2):\n",
    "        return Rect(0,0,-1,-1) #No intersections\n",
    "    return Rect(max(r1.x, r2.x), max(r1.y, r2.y),\n",
    "                min(r1.x + r1.width, r2.x + r2.width) - max(r1.x, r2.x),\n",
    "                min(r1.y + r1.height, r2.y + r2.height) - max(r1.y, r2.y))\n"
   ]
  },
  {
   "cell_type": "code",
   "execution_count": 42,
   "metadata": {},
   "outputs": [
    {
     "name": "stdout",
     "output_type": "stream",
     "text": [
      "All test cases passed!\n"
     ]
    }
   ],
   "source": [
    "def test_intersect_rectangle():\n",
    "    # Test case 1: No intersection\n",
    "    r1 = Rect(0, 0, 5, 5)\n",
    "    r2 = Rect(10, 10, 5, 5)\n",
    "    assert intersect_rectangle(r1, r2) == Rect(0, 0, -1, -1)\n",
    "\n",
    "    # Test case 2: Partial overlap\n",
    "    r1 = Rect(0, 0, 10, 10)\n",
    "    r2 = Rect(5, 5, 10, 10)\n",
    "    assert intersect_rectangle(r1, r2) == Rect(5, 5, 5, 5)\n",
    "\n",
    "    # Test case 3: One rectangle inside another\n",
    "    r1 = Rect(0, 0, 20, 20)\n",
    "    r2 = Rect(5, 5, 10, 10)\n",
    "    assert intersect_rectangle(r1, r2) == Rect(5, 5, 10, 10)\n",
    "\n",
    "    # # Test case 4: Rectangles touching but not overlapping\n",
    "    # r1 = Rect(0, 0, 5, 5)\n",
    "    # r2 = Rect(5, 5, 5, 5)\n",
    "    # assert intersect_rectangle(r1, r2) == Rect(0, 0, -1, -1)\n",
    "\n",
    "    # Test case 4a: Rectangles touching but not overlapping\n",
    "    r1 = Rect(0, 0, 5, 5)\n",
    "    r2 = Rect(5, 5, 5, 5)\n",
    "    assert intersect_rectangle(r1, r2) == Rect(5, 5, 0, 0)\n",
    "    \n",
    "    \n",
    "    # Test case 5: Rectangles overlapping but not intersecting\n",
    "    r1 = Rect(0, 0, 5, 5)\n",
    "    r2 = Rect(3, 6, 5, 5)\n",
    "    assert intersect_rectangle(r1, r2) == Rect(0, 0, -1, -1)\n",
    "\n",
    "    print(\"All test cases passed!\")\n",
    "\n",
    "# Run test cases\n",
    "test_intersect_rectangle()\n"
   ]
  }
 ],
 "metadata": {
  "kernelspec": {
   "display_name": "Python 3",
   "language": "python",
   "name": "python3"
  },
  "language_info": {
   "codemirror_mode": {
    "name": "ipython",
    "version": 3
   },
   "file_extension": ".py",
   "mimetype": "text/x-python",
   "name": "python",
   "nbconvert_exporter": "python",
   "pygments_lexer": "ipython3",
   "version": "3.11.5"
  }
 },
 "nbformat": 4,
 "nbformat_minor": 2
}
