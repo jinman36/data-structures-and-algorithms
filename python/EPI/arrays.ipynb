{
 "cells": [
  {
   "cell_type": "code",
   "execution_count": 4,
   "metadata": {},
   "outputs": [
    {
     "name": "stdout",
     "output_type": "stream",
     "text": [
      "None\n"
     ]
    }
   ],
   "source": [
    "# even_odd_array.py\n",
    "\n",
    "def even_odd(A: list[int]) -> None:\n",
    "    next_even, next_odd = 0, len(A) - 1\n",
    "    while next_even < next_odd:\n",
    "        if A[next_even] % 2 == 0:\n",
    "            next_even += 1\n",
    "        else:\n",
    "            A[next_even], A[next_odd] = A[next_odd], A[next_even]\n",
    "            next_odd -= 1\n",
    "            \n",
    "even_odd([2,3,5,7,9,11,13,17])"
   ]
  },
  {
   "cell_type": "code",
   "execution_count": 18,
   "metadata": {},
   "outputs": [
    {
     "name": "stdout",
     "output_type": "stream",
     "text": [
      "!dlrow ,olleh\n"
     ]
    }
   ],
   "source": [
    "number_list = [2,3,5,7,9,11,13,17]\n",
    "word_string = \"hello, world!\"\n",
    "\n",
    "reversed_number_list = reversed(word_string)\n",
    "\n",
    "print(word_string[::-1])"
   ]
  },
  {
   "cell_type": "markdown",
   "metadata": {},
   "source": [
    "List COmprehension\n",
    "1. an input sequence\n",
    "2. An iterator over the input sequence\n",
    "3. logical condition over the iterator (optional)\n",
    "4. An expression that yields the elements of the derived list\n"
   ]
  },
  {
   "cell_type": "code",
   "execution_count": 19,
   "metadata": {},
   "outputs": [
    {
     "data": {
      "text/plain": [
       "[0, 4, 16]"
      ]
     },
     "execution_count": 19,
     "metadata": {},
     "output_type": "execute_result"
    }
   ],
   "source": [
    "# list comprehension example:\n",
    "[x**2 for x in range(6) if x % 2 == 0]"
   ]
  },
  {
   "cell_type": "code",
   "execution_count": 20,
   "metadata": {},
   "outputs": [
    {
     "data": {
      "text/plain": [
       "[(1, 'a'), (1, 'b'), (3, 'a'), (3, 'b'), (5, 'a'), (5, 'b')]"
      ]
     },
     "execution_count": 20,
     "metadata": {},
     "output_type": "execute_result"
    }
   ],
   "source": [
    "#  Multiple levels of looping\n",
    "A = [1,3,5]\n",
    "B = ['a', 'b']\n",
    "\n",
    "[(x, y) for x in A for y in B]"
   ]
  },
  {
   "cell_type": "code",
   "execution_count": 23,
   "metadata": {},
   "outputs": [
    {
     "data": {
      "text/plain": [
       "['a', 'b', 'c', 'd', 'e', 'f']"
      ]
     },
     "execution_count": 23,
     "metadata": {},
     "output_type": "execute_result"
    }
   ],
   "source": [
    "# Coverting a 2D list to a 1D list\n",
    "M = [['a','b','c'], ['d','e','f']]\n",
    "[x for row in M for x in row]"
   ]
  },
  {
   "cell_type": "code",
   "execution_count": 25,
   "metadata": {},
   "outputs": [
    {
     "data": {
      "text/plain": [
       "[[1, 4, 9], [16, 25, 36]]"
      ]
     },
     "execution_count": 25,
     "metadata": {},
     "output_type": "execute_result"
    }
   ],
   "source": [
    "#  2 level loop - iterate over 2D list\n",
    "A = [[1,2,3], [4,5,6]]\n",
    "[[x**2 for x in row] for row in A]"
   ]
  },
  {
   "cell_type": "code",
   "execution_count": 32,
   "metadata": {},
   "outputs": [
    {
     "name": "stdout",
     "output_type": "stream",
     "text": [
      "First Pass: 1, 0\n",
      "First Pass: 0, 0\n",
      "First Pass: 0, 2\n",
      "First Pass: 1, 2\n",
      "First Pass: 1, 2\n"
     ]
    }
   ],
   "source": [
    "# Dutch National Flag Partition - Space O(n), time complexity O(n**2)\n",
    "RED, WHITE, BLUE = range(3)\n",
    "\n",
    "def dutch_flag_partition1(pivot_index: int, A: list[int]) -> None:\n",
    "    pivot = A[pivot_index]\n",
    "    # First pass: group elements smaller than pivot\n",
    "    for i in range(len(A)):\n",
    "        #look for a smaller elemenet.\n",
    "        for j in range(i + 1, len(A)):\n",
    "            if A[j] < pivot:\n",
    "                A[i], A[j] = A[j], A[i]\n",
    "                print(f'First Pass: {A[i]}, {A[j]}')\n",
    "                break\n",
    "    # second pass: group elements larger than pivot\n",
    "    for i in reversed(range(len(A))):\n",
    "        #Look for a larger element. Stop when we reach an element less than pivot, sinve first pass has moved them tot the start of A\n",
    "        for j in reversed(range(i)):\n",
    "            if A[j] > pivot:\n",
    "                A[i], A[j] = A[j], A[i]\n",
    "                print(f'Second Pass: {A[i]}, {A[j]}')\n",
    "                break\n",
    "            \n",
    "result = dutch_flag_partition1(2, [0,1,2,0,2,1,1])\n",
    "result\n",
    "\n"
   ]
  },
  {
   "cell_type": "code",
   "execution_count": 35,
   "metadata": {},
   "outputs": [
    {
     "name": "stdout",
     "output_type": "stream",
     "text": [
      "Second Pass: 1, 1\n",
      "Second Pass: 1, 1\n",
      "Second Pass: 2, 2\n",
      "Second Pass: 0, 2\n",
      "Second Pass: 0, 1\n"
     ]
    }
   ],
   "source": [
    "# dutch flag partition - space complexity O(1), time complexity O(n)\n",
    "\n",
    "def dutch_flag_partition2(pivot_index: int, A: list[int]) -> None:\n",
    "    pivot = A[pivot_index]\n",
    "    #First pass: group elements smaller than pivot\n",
    "    smaller = 0\n",
    "    for i in range(len(A)):\n",
    "        if A[i] < pivot:\n",
    "            A[i], A[smaller] = A[smaller], A[i]\n",
    "            print(f'First Pass: {A[i]}, {A[smaller]}')\n",
    "            smaller += 1\n",
    "    larger = len(A) - 1\n",
    "    for i in reversed(range(len(A))):\n",
    "        if A[i] > pivot:\n",
    "            A[i], A[larger] = A[larger], A[i]\n",
    "            print(f'Second Pass: {A[i]}, {A[larger]}')\n",
    "            larger -= 1\n",
    "    \n",
    "result = dutch_flag_partition2(3, [0,1,2,0,2,1,1])\n",
    "result    "
   ]
  },
  {
   "cell_type": "code",
   "execution_count": 38,
   "metadata": {},
   "outputs": [
    {
     "name": "stdout",
     "output_type": "stream",
     "text": [
      "5 7 7\n"
     ]
    }
   ],
   "source": [
    "# dutch_flag_partition.py\n",
    "\n",
    "def dutch_flag_partition(pivot_index: int, A: list[int]) -> None:\n",
    "    pivot = A[pivot_index]\n",
    "    # Keep the following invariants during partitioning:\n",
    "    # bottom group: A[:smaller]\n",
    "    # Middle group: A[smaller: equal]\n",
    "    # unclassified group: A[equal: larger]\n",
    "    # larger group: A[larger:]\n",
    "    smaller, equal, larger = 0, 0, len(A)\n",
    "    # keep interating as long as there is an unclassified element\n",
    "    while equal < larger:\n",
    "        # A[equal] is the incoming unclassified element\n",
    "        if A[equal] < pivot:\n",
    "            A[smaller], A[equal] = A[equal], A[smaller]\n",
    "            smaller, equal = smaller + 1, equal + 1\n",
    "        elif A[equal] == pivot:\n",
    "            equal += 1\n",
    "        else:\n",
    "            larger -= 1\n",
    "            A[equal], A[larger] = A[larger], A[equal]\n",
    "    print(smaller, equal, larger)       \n",
    "\n",
    "result = dutch_flag_partition(2, [0,1,2,0,2,1,1])\n",
    "result"
   ]
  }
 ],
 "metadata": {
  "kernelspec": {
   "display_name": "ds_a",
   "language": "python",
   "name": "python3"
  },
  "language_info": {
   "codemirror_mode": {
    "name": "ipython",
    "version": 3
   },
   "file_extension": ".py",
   "mimetype": "text/x-python",
   "name": "python",
   "nbconvert_exporter": "python",
   "pygments_lexer": "ipython3",
   "version": "3.11.5"
  }
 },
 "nbformat": 4,
 "nbformat_minor": 2
}
