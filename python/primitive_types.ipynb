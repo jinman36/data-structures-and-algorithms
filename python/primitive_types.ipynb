{
 "cells": [
  {
   "cell_type": "markdown",
   "metadata": {},
   "source": [
    "|                Bitwise Operators                  |\n",
    "|---------------------------------------------------|\n",
    "| Operator    | Meaning               | Example     |\n",
    "|-------------|-----------------------|-------------|\n",
    "| &           |  AND                  |  a & b      |\n",
    "|-------------|-----------------------|-------------|\n",
    "| |           |  OR                   |  a | b      |\n",
    "|-------------|-----------------------|-------------|\n",
    "| ^           |  XOR (exclusive OR)   |  a ^ b      |\n",
    "|-------------|-----------------------|-------------|\n",
    "| ~           |  NOT                  |  ~a         |\n",
    "|-------------|-----------------------|-------------|\n",
    "| <<          |  left shift           |  a << n     |\n",
    "|-------------|-----------------------|-------------|\n",
    "| >>          |  right shift          |  a >> n     |\n",
    "|---------------------------------------------------|"
   ]
  },
  {
   "cell_type": "code",
   "execution_count": 8,
   "metadata": {},
   "outputs": [
    {
     "name": "stdout",
     "output_type": "stream",
     "text": [
      "25\n"
     ]
    }
   ],
   "source": [
    "# count_bits.py - O(n)\n",
    "def count_bits(x: int) -> int:\n",
    "    num_bits = 0\n",
    "    while x:\n",
    "        num_bits += x & 1\n",
    "        x >>= 1\n",
    "    return num_bits\n",
    "\n",
    "print(count_bits(532000**3))"
   ]
  },
  {
   "cell_type": "code",
   "execution_count": 18,
   "metadata": {},
   "outputs": [
    {
     "data": {
      "text/plain": [
       "0"
      ]
     },
     "execution_count": 18,
     "metadata": {},
     "output_type": "execute_result"
    }
   ],
   "source": [
    "# parity1.py - O(n/L)\n",
    "def parity1(x: int) -> int:\n",
    "    result = 0\n",
    "    while x:\n",
    "        result ^= x & 1\n",
    "        x >>= 1\n",
    "    return result\n",
    "\n",
    "parity1(11001010)"
   ]
  },
  {
   "cell_type": "code",
   "execution_count": 17,
   "metadata": {},
   "outputs": [
    {
     "data": {
      "text/plain": [
       "0"
      ]
     },
     "execution_count": 17,
     "metadata": {},
     "output_type": "execute_result"
    }
   ],
   "source": [
    "# parity2.py - O(log n)\n",
    "def parity2(x: int) -> int:\n",
    "    result = 0\n",
    "    while x:\n",
    "        result ^= 1\n",
    "        x &= x - 1\n",
    "    return result\n",
    "\n",
    "parity2(len('parity'))"
   ]
  },
  {
   "cell_type": "code",
   "execution_count": 23,
   "metadata": {},
   "outputs": [
    {
     "ename": "TypeError",
     "evalue": "'function' object is not subscriptable",
     "output_type": "error",
     "traceback": [
      "\u001b[0;31m---------------------------------------------------------------------------\u001b[0m",
      "\u001b[0;31mTypeError\u001b[0m                                 Traceback (most recent call last)",
      "Cell \u001b[0;32mIn[23], line 16\u001b[0m\n\u001b[1;32m     10\u001b[0m     bit_mask \u001b[38;5;241m=\u001b[39m \u001b[38;5;241m0xFFFF\u001b[39m\n\u001b[1;32m     11\u001b[0m     \u001b[38;5;28;01mreturn\u001b[39;00m(parity2[x \u001b[38;5;241m>>\u001b[39m (\u001b[38;5;241m3\u001b[39m \u001b[38;5;241m*\u001b[39m mask_size)] \u001b[38;5;241m^\u001b[39m\n\u001b[1;32m     12\u001b[0m            parity2[(x \u001b[38;5;241m>>\u001b[39m (\u001b[38;5;241m2\u001b[39m \u001b[38;5;241m*\u001b[39m mask_size)) \u001b[38;5;241m&\u001b[39m bit_mask] \u001b[38;5;241m^\u001b[39m\n\u001b[1;32m     13\u001b[0m            parity2[(x \u001b[38;5;241m>>\u001b[39m mask_size)\n\u001b[1;32m     14\u001b[0m                              \u001b[38;5;241m&\u001b[39m bit_mask] \u001b[38;5;241m^\u001b[39m parity2[x \u001b[38;5;241m&\u001b[39m bit_mask])\n\u001b[0;32m---> 16\u001b[0m parity3(\u001b[38;5;241m11001010\u001b[39m)\n",
      "Cell \u001b[0;32mIn[23], line 11\u001b[0m, in \u001b[0;36mparity3\u001b[0;34m(x)\u001b[0m\n\u001b[1;32m      9\u001b[0m mask_size \u001b[38;5;241m=\u001b[39m \u001b[38;5;241m16\u001b[39m\n\u001b[1;32m     10\u001b[0m bit_mask \u001b[38;5;241m=\u001b[39m \u001b[38;5;241m0xFFFF\u001b[39m\n\u001b[0;32m---> 11\u001b[0m \u001b[38;5;28;01mreturn\u001b[39;00m(parity2[x \u001b[38;5;241m>>\u001b[39m (\u001b[38;5;241m3\u001b[39m \u001b[38;5;241m*\u001b[39m mask_size)] \u001b[38;5;241m^\u001b[39m\n\u001b[1;32m     12\u001b[0m        parity2[(x \u001b[38;5;241m>>\u001b[39m (\u001b[38;5;241m2\u001b[39m \u001b[38;5;241m*\u001b[39m mask_size)) \u001b[38;5;241m&\u001b[39m bit_mask] \u001b[38;5;241m^\u001b[39m\n\u001b[1;32m     13\u001b[0m        parity2[(x \u001b[38;5;241m>>\u001b[39m mask_size)\n\u001b[1;32m     14\u001b[0m                          \u001b[38;5;241m&\u001b[39m bit_mask] \u001b[38;5;241m^\u001b[39m parity2[x \u001b[38;5;241m&\u001b[39m bit_mask])\n",
      "\u001b[0;31mTypeError\u001b[0m: 'function' object is not subscriptable"
     ]
    }
   ],
   "source": [
    "# def parity3(x: int) -> int:\n",
    "#     mask_size = 16\n",
    "#     bit_mask = 0xFFFF\n",
    "#     return( PRECOMPUTED_PARITY[x >> (3 * mask_size)] ^\n",
    "#            PRECOMPUTED_PARITY[(x >> (2 * mask_size)) & bit_mask] ^\n",
    "#            PRECOMUTED_PARITY[(x >> mask_size)\n",
    "#                              & bit_mask] ^ PRECOMPUTED_PARITY[x & bit_mask])\n",
    "    \n",
    "# parity3(11001010)"
   ]
  },
  {
   "cell_type": "code",
   "execution_count": 25,
   "metadata": {},
   "outputs": [
    {
     "data": {
      "text/plain": [
       "0"
      ]
     },
     "execution_count": 25,
     "metadata": {},
     "output_type": "execute_result"
    }
   ],
   "source": [
    "def parity4(x: int) -> int:\n",
    "    x ^= x >> 32\n",
    "    x ^= x >> 16\n",
    "    x ^= x >> 8\n",
    "    x ^= x >> 4\n",
    "    x ^= x >> 2\n",
    "    x ^= x >> 1\n",
    "    return x & 0x1\n",
    "\n",
    "parity4(11001010)"
   ]
  },
  {
   "cell_type": "code",
   "execution_count": 27,
   "metadata": {},
   "outputs": [
    {
     "data": {
      "text/plain": [
       "21"
      ]
     },
     "execution_count": 27,
     "metadata": {},
     "output_type": "execute_result"
    }
   ],
   "source": [
    "# swap_bits.py - O(1)\n",
    "\n",
    "def swap_bits(x, i, j):\n",
    "    # Extract the i-th and the j-th bits, and see if they differ.\n",
    "    if (x >> i) & 1 != (x >> j) & 1:\n",
    "        # i-th and j-th bits differ, we will swap them by flipping thier values\n",
    "        # Select the bits to flip with bit_mask, since x^1 = 0 when x = 1 and 1\n",
    "        # when x = 0, we can perform the flip XOR\n",
    "        bit_mask = (1 << i) | (1 << j)\n",
    "        x ^= bit_mask\n",
    "    return x\n",
    "\n",
    "swap_bits(28, 0, 3)"
   ]
  },
  {
   "cell_type": "code",
   "execution_count": 29,
   "metadata": {},
   "outputs": [
    {
     "ename": "NameError",
     "evalue": "name 'PRECOMPUTED_REVERSE' is not defined",
     "output_type": "error",
     "traceback": [
      "\u001b[0;31m---------------------------------------------------------------------------\u001b[0m",
      "\u001b[0;31mNameError\u001b[0m                                 Traceback (most recent call last)",
      "Cell \u001b[0;32mIn[29], line 10\u001b[0m\n\u001b[1;32m      3\u001b[0m     bit_mask \u001b[38;5;241m=\u001b[39m \u001b[38;5;241m0xFFFF\u001b[39m\n\u001b[1;32m      4\u001b[0m     \u001b[38;5;28;01mreturn\u001b[39;00m (PRECOMPUTED_REVERSE[x \u001b[38;5;241m&\u001b[39m bit_mask] \u001b[38;5;241m<<\u001b[39m (\u001b[38;5;241m3\u001b[39m \u001b[38;5;241m*\u001b[39m mask_size)\n\u001b[1;32m      5\u001b[0m             \u001b[38;5;241m|\u001b[39m PRECOMPUTED_REVERSE[(x \u001b[38;5;241m>>\u001b[39m mask_size) \u001b[38;5;241m&\u001b[39m bit_mask] \u001b[38;5;241m<<\u001b[39m\n\u001b[1;32m      6\u001b[0m             (\u001b[38;5;241m2\u001b[39m \u001b[38;5;241m*\u001b[39m mask_size) \u001b[38;5;241m|\u001b[39m \n\u001b[1;32m      7\u001b[0m             PRECOMPUTED_REVERSE[(x \u001b[38;5;241m>>\u001b[39m (\u001b[38;5;241m2\u001b[39m \u001b[38;5;241m*\u001b[39m mask_size)) \u001b[38;5;241m&\u001b[39m bit_mask] \u001b[38;5;241m<<\u001b[39m mask_size\n\u001b[1;32m      8\u001b[0m             \u001b[38;5;241m|\u001b[39m PRECOMPUTED_REVERSE[(x \u001b[38;5;241m>>\u001b[39m (\u001b[38;5;241m3\u001b[39m \u001b[38;5;241m*\u001b[39m mask_size)) \u001b[38;5;241m&\u001b[39m bit_mask])\n\u001b[0;32m---> 10\u001b[0m reverse_bits(\u001b[38;5;241m1000000000000111\u001b[39m)\n",
      "Cell \u001b[0;32mIn[29], line 4\u001b[0m, in \u001b[0;36mreverse_bits\u001b[0;34m(x)\u001b[0m\n\u001b[1;32m      2\u001b[0m mask_size \u001b[38;5;241m=\u001b[39m \u001b[38;5;241m16\u001b[39m\n\u001b[1;32m      3\u001b[0m bit_mask \u001b[38;5;241m=\u001b[39m \u001b[38;5;241m0xFFFF\u001b[39m\n\u001b[0;32m----> 4\u001b[0m \u001b[38;5;28;01mreturn\u001b[39;00m (PRECOMPUTED_REVERSE[x \u001b[38;5;241m&\u001b[39m bit_mask] \u001b[38;5;241m<<\u001b[39m (\u001b[38;5;241m3\u001b[39m \u001b[38;5;241m*\u001b[39m mask_size)\n\u001b[1;32m      5\u001b[0m         \u001b[38;5;241m|\u001b[39m PRECOMPUTED_REVERSE[(x \u001b[38;5;241m>>\u001b[39m mask_size) \u001b[38;5;241m&\u001b[39m bit_mask] \u001b[38;5;241m<<\u001b[39m\n\u001b[1;32m      6\u001b[0m         (\u001b[38;5;241m2\u001b[39m \u001b[38;5;241m*\u001b[39m mask_size) \u001b[38;5;241m|\u001b[39m \n\u001b[1;32m      7\u001b[0m         PRECOMPUTED_REVERSE[(x \u001b[38;5;241m>>\u001b[39m (\u001b[38;5;241m2\u001b[39m \u001b[38;5;241m*\u001b[39m mask_size)) \u001b[38;5;241m&\u001b[39m bit_mask] \u001b[38;5;241m<<\u001b[39m mask_size\n\u001b[1;32m      8\u001b[0m         \u001b[38;5;241m|\u001b[39m PRECOMPUTED_REVERSE[(x \u001b[38;5;241m>>\u001b[39m (\u001b[38;5;241m3\u001b[39m \u001b[38;5;241m*\u001b[39m mask_size)) \u001b[38;5;241m&\u001b[39m bit_mask])\n",
      "\u001b[0;31mNameError\u001b[0m: name 'PRECOMPUTED_REVERSE' is not defined"
     ]
    }
   ],
   "source": [
    "def reverse_bits(x: int) -> int:\n",
    "    mask_size = 16\n",
    "    bit_mask = 0xFFFF\n",
    "    return (PRECOMPUTED_REVERSE[x & bit_mask] << (3 * mask_size)\n",
    "            | PRECOMPUTED_REVERSE[(x >> mask_size) & bit_mask] <<\n",
    "            (2 * mask_size) | \n",
    "            PRECOMPUTED_REVERSE[(x >> (2 * mask_size)) & bit_mask] << mask_size\n",
    "            | PRECOMPUTED_REVERSE[(x >> (3 * mask_size)) & bit_mask])\n",
    "\n",
    "reverse_bits(1000000000000111)"
   ]
  },
  {
   "cell_type": "code",
   "execution_count": 39,
   "metadata": {},
   "outputs": [
    {
     "data": {
      "text/plain": [
       "32760"
      ]
     },
     "execution_count": 39,
     "metadata": {},
     "output_type": "execute_result"
    }
   ],
   "source": [
    "# reverse_bits.py\n",
    "def reverse_bits2(number, bit_size):\n",
    "    max_value = (1 << bit_size) - 1\n",
    "    return max_value - number\n",
    "\n",
    "reverse_bits2(32775, 16)"
   ]
  },
  {
   "cell_type": "code",
   "execution_count": 1,
   "metadata": {},
   "outputs": [
    {
     "data": {
      "text/plain": [
       "29"
      ]
     },
     "execution_count": 1,
     "metadata": {},
     "output_type": "execute_result"
    }
   ],
   "source": [
    "# closest_int_same_weight.py - O(n)\n",
    "\n",
    "def closest_int_same_bit_count(x: int) -> int:\n",
    "    num_unsigned_bits = 64\n",
    "    for i in range(num_unsigned_bits - 1):\n",
    "        if (x >> i) & 1 != (x >> (i + 1)) & 1:\n",
    "            x ^= (1 << i) | (1 << (i + 1))\n",
    "            return x\n",
    "        \n",
    "    raise ValueError('All bits are 0 or 1')\n",
    "\n",
    "closest_int_same_bit_count(30)"
   ]
  },
  {
   "cell_type": "code",
   "execution_count": 45,
   "metadata": {},
   "outputs": [
    {
     "data": {
      "text/plain": [
       "20"
      ]
     },
     "execution_count": 45,
     "metadata": {},
     "output_type": "execute_result"
    }
   ],
   "source": [
    "# primitive_multiply.py - O(n^2)\n",
    "\n",
    "def multiply(x: int, y: int) -> int:\n",
    "    def add(a, b):\n",
    "        return a if b == 0 else add(a ^ b, (a & b) << 1)\n",
    "    \n",
    "    running_sum = 0\n",
    "    while x: # examine each bit of x\n",
    "        if x & 1:\n",
    "            running_sum = add(running_sum, y)\n",
    "        x, y = x >> 1, y << 1\n",
    "    return running_sum\n",
    "        \n",
    "\n",
    "multiply(2, 10)"
   ]
  },
  {
   "cell_type": "code",
   "execution_count": 4,
   "metadata": {},
   "outputs": [
    {
     "data": {
      "text/plain": [
       "5"
      ]
     },
     "execution_count": 4,
     "metadata": {},
     "output_type": "execute_result"
    }
   ],
   "source": [
    "# primitive_divide.py - O(n)\n",
    "\n",
    "def divide(x: int, y: int) -> int:\n",
    "    result, power = 0, 64\n",
    "    y_power = y << power \n",
    "    while x >= y:\n",
    "        while y_power > x:\n",
    "            y_power >>= 1\n",
    "            power -= 1\n",
    "            \n",
    "        result += 1 << power\n",
    "        x -= y_power\n",
    "    return result\n",
    "\n",
    "divide(25, 5)"
   ]
  }
 ],
 "metadata": {
  "kernelspec": {
   "display_name": "Python 3",
   "language": "python",
   "name": "python3"
  },
  "language_info": {
   "codemirror_mode": {
    "name": "ipython",
    "version": 3
   },
   "file_extension": ".py",
   "mimetype": "text/x-python",
   "name": "python",
   "nbconvert_exporter": "python",
   "pygments_lexer": "ipython3",
   "version": "3.11.5"
  }
 },
 "nbformat": 4,
 "nbformat_minor": 2
}
